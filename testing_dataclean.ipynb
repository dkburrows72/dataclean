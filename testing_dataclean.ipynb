{
 "nbformat": 4,
 "nbformat_minor": 2,
 "metadata": {
  "language_info": {
   "name": "python",
   "codemirror_mode": {
    "name": "ipython",
    "version": 3
   },
   "version": "3.8.1-final"
  },
  "orig_nbformat": 2,
  "file_extension": ".py",
  "mimetype": "text/x-python",
  "name": "python",
  "npconvert_exporter": "python",
  "pygments_lexer": "ipython3",
  "version": 3,
  "kernelspec": {
   "name": "python38164bit4496e41357cc4fb6979990f4201459dc",
   "display_name": "Python 3.8.1 64-bit"
  }
 },
 "cells": [
  {
   "cell_type": "code",
   "execution_count": 1,
   "metadata": {},
   "outputs": [],
   "source": [
    "import dataclean.dataclean as dc"
   ]
  },
  {
   "cell_type": "code",
   "execution_count": 2,
   "metadata": {},
   "outputs": [
    {
     "output_type": "stream",
     "name": "stdout",
     "text": "4: matthew,burrows,158 Harmon dr, box 1292, 8603833549\n\n"
    }
   ],
   "source": [
    "bad_lines = dc.find_bad_data(\"testdata.csv\")\n",
    "print(*bad_lines,sep='\\n')"
   ]
  },
  {
   "cell_type": "code",
   "execution_count": 3,
   "metadata": {},
   "outputs": [
    {
     "output_type": "stream",
     "name": "stdout",
     "text": "The proper number of columns is 4\nBad lines:\n4: matthew,burrows,158 Harmon dr, box 1292, 8603833549\n\n"
    },
    {
     "output_type": "execute_result",
     "data": {
      "text/plain": "['4: matthew,burrows,158 Harmon dr, box 1292, 8603833549\\n']"
     },
     "metadata": {},
     "execution_count": 3
    }
   ],
   "source": [
    "dc.find_bad_data(\"testdata.csv\",verbose='Yes')"
   ]
  },
  {
   "cell_type": "code",
   "execution_count": 5,
   "metadata": {},
   "outputs": [],
   "source": [
    "bad = dc.find_bad_data(\"testdata.csv\")"
   ]
  },
  {
   "cell_type": "code",
   "execution_count": 6,
   "metadata": {},
   "outputs": [
    {
     "output_type": "stream",
     "name": "stdout",
     "text": "4: matthew,burrows,158 Harmon dr, box 1292, 8603833549\n\n"
    }
   ],
   "source": [
    "print(*bad)"
   ]
  },
  {
   "cell_type": "code",
   "execution_count": 13,
   "metadata": {},
   "outputs": [
    {
     "output_type": "stream",
     "name": "stdout",
     "text": "The proper number of columns is 10\nBad lines:\n4012: 12224,Streetcar Suburbs: The Process of Growth in Boston  1870-1900,Sam Bass Warner, Jr.-Sam B. Warner,3.57,0674842111,9780674842113,en-US,236,55,6\n\n5688: 16914,The Tolkien Fan's Medieval Reader,David E. Smith (Turgon of TheOneRing.net, one of the founding members of this Tolkien website)-Verlyn Flieger-Turgon (=David E. Smith),3.60,1593600119,9781593600112,eng,400,25,4\n\n7056: 22128,Patriots (The Coming Collapse),James Wesley, Rawles,3.63,156384155X,9781563841552,eng,342,38,4\n\n10601: 34523,The Flying Sorcerers: More Comic Tales of Fantasy,Peter Haining-Roald Dahl-Terry Pratchett-Angela Carter-Arthur C. Clarke-Kurt Vonnegut, Jr.-C.S. Lewis-P.G. Wodehouse-Michael Moorcock-L. Sprague de Camp-Fletcher Pratt-Eric Knight-Mervyn Peake-Piers Anthony-John Collier-Fredric Brown-Nelson S. Bond-Thomas M. Disch-Robert Bloch-Stephen Leacock-John Wyndham-Stanisław Lem-Cordwainer Smith-Robert Sheckley-William F. Nolan-Harry Harrison,3.98,1857237250,9781857237252,eng,383,2197,17\n\n10668: 34889,Brown's Star Atlas: Showing All The Bright Stars With Full Instructions How To Find And Use Them For Navigational Purposes And Department Of Trade Examinations.,Brown, Son & Ferguson,0.00,0851742718,9780851742717,eng,49,0,0\n\n"
    },
    {
     "output_type": "execute_result",
     "data": {
      "text/plain": "['4012: 12224,Streetcar Suburbs: The Process of Growth in Boston  1870-1900,Sam Bass Warner, Jr.-Sam B. Warner,3.57,0674842111,9780674842113,en-US,236,55,6\\n',\n \"5688: 16914,The Tolkien Fan's Medieval Reader,David E. Smith (Turgon of TheOneRing.net, one of the founding members of this Tolkien website)-Verlyn Flieger-Turgon (=David E. Smith),3.60,1593600119,9781593600112,eng,400,25,4\\n\",\n '7056: 22128,Patriots (The Coming Collapse),James Wesley, Rawles,3.63,156384155X,9781563841552,eng,342,38,4\\n',\n '10601: 34523,The Flying Sorcerers: More Comic Tales of Fantasy,Peter Haining-Roald Dahl-Terry Pratchett-Angela Carter-Arthur C. Clarke-Kurt Vonnegut, Jr.-C.S. Lewis-P.G. Wodehouse-Michael Moorcock-L. Sprague de Camp-Fletcher Pratt-Eric Knight-Mervyn Peake-Piers Anthony-John Collier-Fredric Brown-Nelson S. Bond-Thomas M. Disch-Robert Bloch-Stephen Leacock-John Wyndham-Stanisław Lem-Cordwainer Smith-Robert Sheckley-William F. Nolan-Harry Harrison,3.98,1857237250,9781857237252,eng,383,2197,17\\n',\n \"10668: 34889,Brown's Star Atlas: Showing All The Bright Stars With Full Instructions How To Find And Use Them For Navigational Purposes And Department Of Trade Examinations.,Brown, Son & Ferguson,0.00,0851742718,9780851742717,eng,49,0,0\\n\"]"
     },
     "metadata": {},
     "execution_count": 13
    }
   ],
   "source": [
    "dc.find_bad_data(r\"/home/dennis/Downloads/books.csv\",verbose='Yes')"
   ]
  },
  {
   "cell_type": "code",
   "execution_count": null,
   "metadata": {},
   "outputs": [],
   "source": []
  }
 ]
}